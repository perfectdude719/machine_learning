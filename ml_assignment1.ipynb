{
  "nbformat": 4,
  "nbformat_minor": 0,
  "metadata": {
    "colab": {
      "provenance": []
    },
    "kernelspec": {
      "name": "python3",
      "display_name": "Python 3"
    },
    "language_info": {
      "name": "python"
    }
  },
  "cells": [
    {
      "cell_type": "markdown",
      "source": [
        "## in this notebook we discuss two task: KNN classification task and a regressin task"
      ],
      "metadata": {
        "id": "Omg0f2zyAhG8"
      }
    },
    {
      "cell_type": "code",
      "source": [
        "#import necessary libraries\n",
        "import numpy as np\n",
        "import pandas as pd\n",
        "from sklearn.model_selection import train_test_split, GridSearchCV,  PredefinedSplit\n",
        "from sklearn.linear_model import SGDRegressor #for stochastic regression\n",
        "from sklearn.preprocessing import StandardScaler\n",
        "from sklearn.linear_model import LinearRegression, Lasso, Ridge #batch\n",
        "from sklearn.metrics import mean_squared_error, mean_absolute_error, make_scorer, r2_score\n",
        "from google.colab import drive\n",
        "import matplotlib.pyplot as plt\n",
        "\n",
        "# Path to a file in Google Drive\n",
        "data = pd.read_csv('https://drive.google.com/uc?id=1nqSQ-M_Ff2TDD2U0syAbFBvJZuXJLWNc')\n"
      ],
      "metadata": {
        "id": "YazG71qIP7XQ"
      },
      "execution_count": null,
      "outputs": []
    },
    {
      "cell_type": "markdown",
      "source": [
        "# **1 Basic Concepts**\n",
        "#what is regression?\n",
        "##in a regression problem a model tries to predict the output of some function.\n",
        "\n",
        "![image.png](data:image/png;base64,iVBORw0KGgoAAAANSUhEUgAAAMoAAAAyCAYAAAAdpETcAAAAAXNSR0IArs4c6QAAAARnQU1BAACxjwv8YQUAAAAJcEhZcwAADsMAAA7DAcdvqGQAAAJESURBVHhe7d2JboQgFIXhse//zm1v05sQgnhY1Iv+X0KmRVkETqZL0m7fvz4Aqr7+XwFUEBRAQFAAAUEBBAQFEBAUQEBQAAFBAQQEBRAQFEBAUAABQQEEBAUQEBRAQFAAAUEBBAQFEBAUQEBQAEH4oGzb9leu0DPOVXN7Gt/XVdYvdFBsEe1vX1g5e0F9rFZXzO2JfK171vwOy3zpdeaC9obEvTUsb3rmsEEZPbxvUjqwad0bQzxbuKDYpvrGph+fxfovBdLHzscv1d0hnV8+/706f/WSKtWdycbyd+Irx+0V9g/g+UKeTRkn3dTavcp1Rctzl8ZsrStdU/S2M9bWePuRvq6wzPcoI2wTfGN6zdhIa68U1egzmTsP6F3j9ggZlNmbN9pX5A3N59aydi3PZf3mpVZfY/dEXtOS17yjjGyMsvkR7M1z7/lbnsva56VW/zTLBaV2GGobf3R9j7WZtfk+h6NyBRsnyqGONJc9SwWldIi87mih7bqV3oOYth3pQymKfA72eantXr2za6PP1UKddzThglJbuLz+zEW2vkv9R9lYn0M+T3v1utJca/V53RlsjHSOV4w5Q7gfD9cWL71mH5v081K7vL50317bFjP6WM2bnnnJb+aPNsiul7zxMJ/pTWsZ4h3FD7BykPN7PBS1utI9OWXsPSNtsYYwX3rNPmw9/V3VBut55P9w5PBitkf+wpGQYLZHBgWYjaAAAoICCAgKICAogICgAAKCAggICiAgKICAoAACggIICApw6PP5Ad8Vg6cvaS8jAAAAAElFTkSuQmCC)\n",
        "*   f(x) is the dependent variable we want to predict.\n",
        "*   X is the independent variable we use to make the prediction.\n",
        "* b is the\n",
        "y-intercept and w is the slope of the line.\n",
        "\n",
        "\n",
        "#### these parameteres should minimize some set cost function **J** for linear regression we will use the sum of squared error cost function.\n",
        "\n",
        "![image.png](data:image/png;base64,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)\n",
        "\n",
        "##Gradient Descent\n",
        "![image.png](data:image/png;base64,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)\n",
        "\n"
      ],
      "metadata": {
        "id": "xvFo2tiKBn2e"
      }
    },
    {
      "cell_type": "markdown",
      "source": [],
      "metadata": {
        "id": "eRrej7T3Ac69"
      }
    },
    {
      "cell_type": "markdown",
      "source": [
        "# **2 California Houses Problem**\n",
        "#### in this problem we use linear regression to predict the median house price given a set of samples and corresponding features."
      ],
      "metadata": {
        "id": "Qoi86E74Hzip"
      }
    },
    {
      "cell_type": "markdown",
      "source": [
        "#split the trainging data into training , test , and validation sets"
      ],
      "metadata": {
        "id": "i7qAFSh-kKsx"
      }
    },
    {
      "cell_type": "code",
      "source": [
        "#visiualize the rwa data\n",
        "# Display the column headers\n",
        "print(data.columns)\n"
      ],
      "metadata": {
        "id": "8XN_iqK0P_HS",
        "colab": {
          "base_uri": "https://localhost:8080/"
        },
        "outputId": "a198b4af-0d5f-4264-ed5b-553c8e4874dd"
      },
      "execution_count": null,
      "outputs": [
        {
          "output_type": "stream",
          "name": "stdout",
          "text": [
            "Index(['Median_House_Value', 'Median_Income', 'Median_Age', 'Tot_Rooms',\n",
            "       'Tot_Bedrooms', 'Population', 'Households', 'Latitude', 'Longitude',\n",
            "       'Distance_to_coast', 'Distance_to_LA', 'Distance_to_SanDiego',\n",
            "       'Distance_to_SanJose', 'Distance_to_SanFrancisco'],\n",
            "      dtype='object')\n"
          ]
        }
      ]
    },
    {
      "cell_type": "markdown",
      "source": [
        "'Median_House_Value' is the value we want to predict. the rest are feetures."
      ],
      "metadata": {
        "id": "aZJgz7qT66lb"
      }
    },
    {
      "cell_type": "code",
      "source": [
        "import numpy as np\n",
        "import pandas as pd\n",
        "from sklearn.model_selection import train_test_split\n",
        "from sklearn.preprocessing import StandardScaler\n",
        "\n",
        "# Define feature columns\n",
        "X_features = [\n",
        "    'Median_Income', 'Median_Age', 'Tot_Rooms', 'Tot_Bedrooms',\n",
        "    'Population', 'Households', 'Latitude', 'Longitude',\n",
        "    'Distance_to_coast', 'Distance_to_LA', 'Distance_to_SanDiego',\n",
        "    'Distance_to_SanJose', 'Distance_to_SanFrancisco'\n",
        "]\n",
        "\n",
        "# Arrange data and split\n",
        "X = data[X_features]  # Feature matrix\n",
        "y = data['Median_House_Value']  # Target variable\n",
        "\n",
        "# Transform to numpy arrays\n",
        "X = X.to_numpy()  # or use X.values\n",
        "y = np.array(y)\n",
        "\n",
        "# Normalize the data for comparison later on\n",
        "scaler = StandardScaler()\n",
        "X_norm = scaler.fit_transform(X)\n",
        "\n",
        "# Split the data into 70% training, 15% test, and 15% validation\n",
        "X_train, X_temp, y_train, y_temp = train_test_split(X, y, test_size=0.3, random_state=42)\n",
        "X_val, X_test, y_val, y_test = train_test_split(X_temp, y_temp, test_size=0.5, random_state=42)\n",
        "\n",
        "# Split the normalized set as well\n",
        "Xnorm_train, Xnorm_temp = train_test_split(X_norm, test_size=0.3, random_state=42)\n",
        "Xnorm_val, Xnorm_test = train_test_split(Xnorm_temp, test_size=0.5, random_state=42)\n",
        "\n",
        "# Visualize the data\n",
        "print(f\"The features of the first sample are: {X_train[1]}\")\n",
        "print(f\"The median price is: {y_train[1]}\\n\")\n",
        "\n",
        "print(f\"The features of the first sample from the normalized set are: {Xnorm_train[1]}\")\n",
        "print(f\"The median price is: {y_train[1]}\")\n"
      ],
      "metadata": {
        "id": "ZqtIQ3Mb666E",
        "colab": {
          "base_uri": "https://localhost:8080/"
        },
        "outputId": "7bc54b14-0c13-454d-92cf-18d7f5d36cac"
      },
      "execution_count": null,
      "outputs": [
        {
          "output_type": "stream",
          "name": "stdout",
          "text": [
            "The features of the first sample are: [ 2.86310000e+00  2.00000000e+01  2.18300000e+03  5.34000000e+02\n",
            "  9.99000000e+02  4.96000000e+02  3.27900000e+01 -1.17090000e+02\n",
            "  1.43449263e+04  1.76528653e+05  1.06011336e+04  6.68041340e+05\n",
            "  7.36046140e+05]\n",
            "The median price is: 169700.0\n",
            "\n",
            "The features of the first sample from the normalized set are: [-0.53036314 -0.68647699 -0.20754074 -0.00925371 -0.37660163 -0.00925841\n",
            " -1.33052136  1.23769666 -0.5324573  -0.3749835  -1.33922748  1.46839372\n",
            "  1.39678202]\n",
            "The median price is: 169700.0\n"
          ]
        }
      ]
    },
    {
      "cell_type": "markdown",
      "source": [
        "##we are going to use four very similar models: Linear, Ridge, and Lasso the Linear model is the basic Model we discussed earlier where f(x)= wx +b. the ridge and lasso models are derived from this model by adding a regularization term. the SGDR (stochastic)model uses gradient descent iteratively and not as batch.  \n",
        "\n",
        "##for the stochastic ghradient descent we will be using the normalized data sets"
      ],
      "metadata": {
        "id": "Xm0TJVPVklTO"
      }
    },
    {
      "cell_type": "code",
      "source": [
        "\n",
        "# Initialize models\n",
        "sgdr = SGDRegressor(max_iter=2000)\n",
        "linear_model = LinearRegression()\n",
        "lasso_model = Lasso(alpha=0.1)\n",
        "ridge_model = Ridge(alpha=1)\n",
        "\n",
        "# train and evaluate sgdr\n",
        "sgdr.fit(Xnorm_train, y_train)\n",
        "y_pred_sgdr=sgdr.predict(Xnorm_val)\n",
        "mse_sgdr = mean_squared_error(y_val, y_pred_sgdr)\n",
        "mae_sgdr = mean_absolute_error(y_val,y_pred_sgdr)\n",
        "\n",
        "# Train and evaluate Linear Regression\n",
        "linear_model.fit(Xnorm_train, y_train)\n",
        "y_pred_linear = linear_model.predict(Xnorm_val)\n",
        "mse_linear = mean_squared_error(y_val, y_pred_linear)\n",
        "mae_linear = mean_absolute_error(y_val, y_pred_linear)\n",
        "\n",
        "# Train and evaluate Lasso Regression\n",
        "lasso_model.fit(Xnorm_train, y_train)\n",
        "y_pred_lasso = lasso_model.predict(Xnorm_val)\n",
        "mse_lasso = mean_squared_error(y_val, y_pred_lasso)\n",
        "mae_lasso = mean_absolute_error(y_val, y_pred_lasso)\n",
        "\n",
        "# Train and evaluate Ridge Regression\n",
        "ridge_model.fit(Xnorm_train, y_train)\n",
        "y_pred_ridge = ridge_model.predict(Xnorm_val)\n",
        "mse_ridge = mean_squared_error(y_val, y_pred_ridge)\n",
        "mae_ridge = mean_absolute_error(y_val, y_pred_ridge)"
      ],
      "metadata": {
        "id": "SpsNk99-QNwA",
        "colab": {
          "base_uri": "https://localhost:8080/"
        },
        "outputId": "e09b780c-71ac-4d00-ea85-939cb423ea28"
      },
      "execution_count": null,
      "outputs": [
        {
          "output_type": "stream",
          "name": "stderr",
          "text": [
            "/usr/local/lib/python3.10/dist-packages/sklearn/linear_model/_coordinate_descent.py:697: ConvergenceWarning: Objective did not converge. You might want to increase the number of iterations, check the scale of the features or consider increasing regularisation. Duality gap: 3.244e+13, tolerance: 1.936e+10\n",
            "  model = cd_fast.enet_coordinate_descent(\n"
          ]
        }
      ]
    },
    {
      "cell_type": "code",
      "source": [
        "# Print the results\n",
        "print(\"SGDR:\")\n",
        "print(\"MSE:\", mse_sgdr)\n",
        "print(\"MAE:\", mae_sgdr)\n",
        "\n",
        "print(\"\\nLinear Regression:\")\n",
        "print(\"MSE:\", mse_linear)\n",
        "print(\"MAE:\", mae_linear)\n",
        "\n",
        "print(\"\\nLasso Regression:\")\n",
        "print(\"MSE:\", mse_lasso)\n",
        "print(\"MAE:\", mae_lasso)\n",
        "print(\"Selected features:\", sum(lasso_model.coef_ != 0))\n",
        "\n",
        "print(\"\\nRidge Regression:\")\n",
        "print(\"MSE:\", mse_ridge)\n",
        "print(\"MAE:\", mae_ridge)\n"
      ],
      "metadata": {
        "id": "XJKy5k8aQY0w",
        "colab": {
          "base_uri": "https://localhost:8080/"
        },
        "outputId": "d7150e3c-392a-41f3-ca01-fc3c91fbca86"
      },
      "execution_count": null,
      "outputs": [
        {
          "output_type": "stream",
          "name": "stdout",
          "text": [
            "SGDR:\n",
            "MSE: 4928222313.209413\n",
            "MAE: 50848.32696497329\n",
            "\n",
            "Linear Regression:\n",
            "MSE: 4907211997.37478\n",
            "MAE: 50790.06027105093\n",
            "\n",
            "Lasso Regression:\n",
            "MSE: 4907209875.578147\n",
            "MAE: 50790.1825237019\n",
            "Selected features: 13\n",
            "\n",
            "Ridge Regression:\n",
            "MSE: 4907280799.676527\n",
            "MAE: 50793.607587626546\n"
          ]
        }
      ]
    },
    {
      "cell_type": "markdown",
      "source": [
        "#Behind the code\n",
        " ## what exactly are the regularization factors in the Lasso and Ridge regressions\n",
        "\n",
        " ## 1 lasso regression\n",
        " #### the lasso regression( also known as the L1 regression) adds a \"penalty\" term to the cost function so that the cost function becomes :\n",
        " ![image.png](data:image/png;base64,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)"
      ],
      "metadata": {
        "id": "Fb0GfB3KEnWZ"
      }
    },
    {
      "cell_type": "markdown",
      "source": [
        "## 2 Ridge Regression\n",
        "\n",
        "### ridge regression(also known as L2 regularization) adds a penalty based on the square of the magnitude of the coeeficients so that the cost function becomes:![image.png](data:image/png;base64,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)"
      ],
      "metadata": {
        "id": "U21P3J_IHjCP"
      }
    },
    {
      "cell_type": "markdown",
      "source": [
        "###note that the ridge regression minimizes but does not eliminate features unlike the ridge function due to the diffrentiable nature of the ridge cost function.\n",
        "\n",
        "## but why do we need regularization?\n",
        "  * to prevent overfitting\n",
        "  * handling high dimensional data\n",
        "  * simplifying the model as rdge regression can remove some coefficients to zero\n",
        "  * reducing variance hence leading to improved better generalization\n",
        "#what now?\n",
        "### now we will attempt to tune the lambda parameters so that it gives reduced error"
      ],
      "metadata": {
        "id": "QJP8lQ1OKALk"
      }
    },
    {
      "cell_type": "code",
      "source": [
        "import numpy as np\n",
        "from sklearn.linear_model import ElasticNet, Ridge, Lasso\n",
        "from sklearn.model_selection import GridSearchCV\n",
        "from sklearn.metrics import make_scorer, mean_absolute_error, mean_squared_error\n",
        "\n",
        "# Define a range for alpha\n",
        "alpha_range = np.logspace(-4, 2, 10)\n",
        "\n",
        "# Create scorers for MAE and MSE\n",
        "mae_scorer = make_scorer(mean_absolute_error, greater_is_better=False)  # MAE scorer\n",
        "mse_scorer = make_scorer(mean_squared_error, greater_is_better=False)    # MSE scorer\n",
        "\n",
        "# Combine the training and validation sets\n",
        "X_combined = np.concatenate([Xnorm_train, Xnorm_val])\n",
        "y_combined = np.concatenate([y_train, y_val])\n",
        "\n",
        "# Define the parameter grid using alpha_range\n",
        "param_grid = {'alpha': alpha_range}\n",
        "\n",
        "# Initialize models\n",
        "model_lasso = Lasso(max_iter=10000)\n",
        "model_ridge = Ridge(max_iter=10000)\n",
        "\n",
        "# Initialize GridSearchCV for Ridge and Lasso regression with multiple scorers\n",
        "grid_search_ridge = GridSearchCV(model_ridge, param_grid, scoring={'MSE': mse_scorer, 'MAE': mae_scorer}, cv=5, refit='MSE')\n",
        "grid_search_lasso = GridSearchCV(model_lasso, param_grid, scoring={'MSE': mse_scorer, 'MAE': mae_scorer}, cv=5, refit='MSE')\n",
        "\n",
        "# Fit using the combined dataset\n",
        "grid_search_ridge.fit(X_combined, y_combined)\n",
        "grid_search_lasso.fit(X_combined, y_combined)\n",
        "\n",
        "# Best score and best parameters for Ridge\n",
        "print(\"Ridge Regression:\")\n",
        "print(\"Best score (MSE):\", -grid_search_ridge.best_score_)  # Negate to show as positive\n",
        "print(\"Best parameters:\", grid_search_ridge.best_params_)\n",
        "print(\"Best MAE score:\", -grid_search_ridge.cv_results_['mean_test_MAE'][grid_search_ridge.best_index_])  # Negate to show as positive\n",
        "\n",
        "# Best score and best parameters for Lasso\n",
        "print(\"\\nLasso Regression:\")\n",
        "print(\"Best score (MSE):\", -grid_search_lasso.best_score_)  # Negate to show as positive\n",
        "print(\"Best parameters:\", grid_search_lasso.best_params_)\n",
        "print(\"Best MAE score:\", -grid_search_lasso.cv_results_['mean_test_MAE'][grid_search_lasso.best_index_])  # Negate to show as positive"
      ],
      "metadata": {
        "id": "3tPxE1czNsg4",
        "colab": {
          "base_uri": "https://localhost:8080/"
        },
        "outputId": "78195368-8390-4a42-d015-b30ab0f306e6"
      },
      "execution_count": null,
      "outputs": [
        {
          "output_type": "stream",
          "name": "stdout",
          "text": [
            "Ridge Regression:\n",
            "Best score (MSE): 4781613598.962604\n",
            "Best parameters: {'alpha': 1.0}\n",
            "Best MAE score: 50188.20397156065\n",
            "\n",
            "Lasso Regression:\n",
            "Best score (MSE): 4781651958.2599125\n",
            "Best parameters: {'alpha': 1.0}\n",
            "Best MAE score: 50185.6559227573\n"
          ]
        }
      ]
    },
    {
      "cell_type": "markdown",
      "source": [
        "## note that the results are somewhat different from previuosly manually setting the alpha. and if you set the alpha to 1 you are going to get different MSE and MAE this is due to the different splitting of the data.\n",
        "\n",
        "##finally we validate our findings using the reserved test set."
      ],
      "metadata": {
        "id": "MYlK3ja0wjzx"
      }
    },
    {
      "cell_type": "code",
      "source": [
        "#retrain the model with the parametr that scored best\n",
        "best_ridge_model = grid_search_ridge.best_estimator_\n",
        "best_lasso_model = grid_search_lasso.best_estimator_\n",
        "\n",
        "# Make predictions on the test set\n",
        "y_pred_ridge = best_ridge_model.predict(Xnorm_test)\n",
        "y_pred_lasso = best_lasso_model.predict(Xnorm_test)\n",
        "\n",
        "# Evaluate the Ridge model on the test set\n",
        "print(\"Ridge Regression Test Set Evaluation:\")\n",
        "print(\"MAE:\", mean_absolute_error(y_test, y_pred_ridge))\n",
        "print(\"MSE:\", mean_squared_error(y_test, y_pred_ridge))\n",
        "print(\"R²:\", r2_score(y_test, y_pred_ridge))\n",
        "\n",
        "# Evaluate the Lasso model on the test set\n",
        "print(\"\\nLasso Regression Test Set Evaluation:\")\n",
        "print(\"MAE:\", mean_absolute_error(y_test, y_pred_lasso))\n",
        "print(\"MSE:\", mean_squared_error(y_test, y_pred_lasso))\n",
        "print(\"R²:\", r2_score(y_test, y_pred_lasso))"
      ],
      "metadata": {
        "colab": {
          "base_uri": "https://localhost:8080/"
        },
        "id": "xPNglA6ixJ0B",
        "outputId": "fe124dad-6f8e-492c-ec80-a91e5acd11fe"
      },
      "execution_count": null,
      "outputs": [
        {
          "output_type": "stream",
          "name": "stdout",
          "text": [
            "Ridge Regression Test Set Evaluation:\n",
            "MAE: 48843.49942153359\n",
            "MSE: 4400559506.9589615\n",
            "R²: 0.6672067741176396\n",
            "\n",
            "Lasso Regression Test Set Evaluation:\n",
            "MAE: 48842.4855286273\n",
            "MSE: 4400791925.797452\n",
            "R²: 0.667189197394749\n"
          ]
        }
      ]
    },
    {
      "cell_type": "markdown",
      "source": [
        "# New Section"
      ],
      "metadata": {
        "id": "c2TirfGpEPMy"
      }
    },
    {
      "cell_type": "markdown",
      "source": [
        "#classification problem\n"
      ],
      "metadata": {
        "id": "DcO-dP0JBMko"
      }
    },
    {
      "cell_type": "markdown",
      "source": [
        "in this problem we use KNN to differentiate between two classes"
      ],
      "metadata": {
        "id": "qa5fdJY9236Z"
      }
    },
    {
      "cell_type": "code",
      "source": [
        "import numpy as np\n",
        "import pandas as pd\n",
        "from sklearn.neighbors import KNeighborsClassifier\n",
        "from sklearn.metrics import classification_report, confusion_matrix\n",
        "from sklearn.metrics import classification_report, confusion_matrix, accuracy_score, precision_score, recall_score, f1_score\n",
        "import matplotlib.pyplot as plt"
      ],
      "metadata": {
        "id": "4Wuiden5Bi6e"
      },
      "execution_count": null,
      "outputs": []
    },
    {
      "cell_type": "code",
      "source": [
        "\n",
        "#initialize variables to hold data#\n",
        "class_g=[]\n",
        "class_h=[]\n"
      ],
      "metadata": {
        "id": "WtOeQqRwBlwk"
      },
      "execution_count": null,
      "outputs": []
    },
    {
      "cell_type": "code",
      "source": [
        "\n",
        "#read the data#\n",
        "with open('data.txt','r') as file:   #alternatively we can use np.genfromtxt()...prefered to do it manually for practice\n",
        "    for line in file:\n",
        "        values=line.strip().split(',')\n",
        "        data = list(map(float, values[:-1])) #converting to integers for later processing\n",
        "        if values[-1]=='g':\n",
        "            class_g.append(data + [1]) #class gamma label\n",
        "        else:\n",
        "            class_h.append(data + [0]) #class hedron label"
      ],
      "metadata": {
        "colab": {
          "base_uri": "https://localhost:8080/",
          "height": 220
        },
        "id": "f_m02FdDBwed",
        "outputId": "83ec6b0b-b27a-4763-8861-d0c4a74b8f93"
      },
      "execution_count": null,
      "outputs": [
        {
          "output_type": "error",
          "ename": "FileNotFoundError",
          "evalue": "[Errno 2] No such file or directory: 'data.txt'",
          "traceback": [
            "\u001b[0;31m---------------------------------------------------------------------------\u001b[0m",
            "\u001b[0;31mFileNotFoundError\u001b[0m                         Traceback (most recent call last)",
            "\u001b[0;32m<ipython-input-48-b40539496a71>\u001b[0m in \u001b[0;36m<cell line: 2>\u001b[0;34m()\u001b[0m\n\u001b[1;32m      1\u001b[0m \u001b[0;31m#read the data#\u001b[0m\u001b[0;34m\u001b[0m\u001b[0;34m\u001b[0m\u001b[0m\n\u001b[0;32m----> 2\u001b[0;31m \u001b[0;32mwith\u001b[0m \u001b[0mopen\u001b[0m\u001b[0;34m(\u001b[0m\u001b[0;34m'data.txt'\u001b[0m\u001b[0;34m,\u001b[0m\u001b[0;34m'r'\u001b[0m\u001b[0;34m)\u001b[0m \u001b[0;32mas\u001b[0m \u001b[0mfile\u001b[0m\u001b[0;34m:\u001b[0m   \u001b[0;31m#alternatively we can use np.genfromtxt()...prefered to do it manually for practice\u001b[0m\u001b[0;34m\u001b[0m\u001b[0;34m\u001b[0m\u001b[0m\n\u001b[0m\u001b[1;32m      3\u001b[0m     \u001b[0;32mfor\u001b[0m \u001b[0mline\u001b[0m \u001b[0;32min\u001b[0m \u001b[0mfile\u001b[0m\u001b[0;34m:\u001b[0m\u001b[0;34m\u001b[0m\u001b[0;34m\u001b[0m\u001b[0m\n\u001b[1;32m      4\u001b[0m         \u001b[0mvalues\u001b[0m\u001b[0;34m=\u001b[0m\u001b[0mline\u001b[0m\u001b[0;34m.\u001b[0m\u001b[0mstrip\u001b[0m\u001b[0;34m(\u001b[0m\u001b[0;34m)\u001b[0m\u001b[0;34m.\u001b[0m\u001b[0msplit\u001b[0m\u001b[0;34m(\u001b[0m\u001b[0;34m','\u001b[0m\u001b[0;34m)\u001b[0m\u001b[0;34m\u001b[0m\u001b[0;34m\u001b[0m\u001b[0m\n\u001b[1;32m      5\u001b[0m         \u001b[0mdata\u001b[0m \u001b[0;34m=\u001b[0m \u001b[0mlist\u001b[0m\u001b[0;34m(\u001b[0m\u001b[0mmap\u001b[0m\u001b[0;34m(\u001b[0m\u001b[0mfloat\u001b[0m\u001b[0;34m,\u001b[0m \u001b[0mvalues\u001b[0m\u001b[0;34m[\u001b[0m\u001b[0;34m:\u001b[0m\u001b[0;34m-\u001b[0m\u001b[0;36m1\u001b[0m\u001b[0;34m]\u001b[0m\u001b[0;34m)\u001b[0m\u001b[0;34m)\u001b[0m \u001b[0;31m#converting to integers for later processing\u001b[0m\u001b[0;34m\u001b[0m\u001b[0;34m\u001b[0m\u001b[0m\n",
            "\u001b[0;31mFileNotFoundError\u001b[0m: [Errno 2] No such file or directory: 'data.txt'"
          ]
        }
      ]
    }
  ]
}
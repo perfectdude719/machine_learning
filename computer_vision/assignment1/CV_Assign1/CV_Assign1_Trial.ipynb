{
 "cells": [
  {
   "cell_type": "code",
   "execution_count": null,
   "metadata": {},
   "outputs": [],
   "source": [
    "import cv2  # OpenCV for image processing\n",
    "import numpy as np  # NumPy for numerical operations\n",
    "import matplotlib.pyplot as plt  # Matplotlib for visualization"
   ]
  },
  {
   "cell_type": "code",
   "execution_count": null,
   "metadata": {},
   "outputs": [],
   "source": [
    "def cartoonify_image(image_path,median_ksize,laplacian_ksize,Threshold,bilateral_d,bilateral_sigmaColor,bilateral_sigmaSpace):\n",
    "\n",
    "    img = cv2.imread(image_path) # Read the image\n",
    "    img = cv2.cvtColor(img, cv2.COLOR_BGR2RGB)  # Convert to RGB\n",
    "    gray = cv2.cvtColor(img, cv2.COLOR_RGB2GRAY) # Convert to grayscale\n",
    "    gray_blur = cv2.medianBlur(gray, median_ksize) # Apply median blur filter to reduce noise\n",
    "    \n",
    "    # Apply Laplacian filter for edge detection\n",
    "    edges = cv2.Laplacian(gray_blur, cv2.CV_8U, laplacian_ksize)\n",
    "    edges = cv2.threshold(edges, Threshold, 255, cv2.THRESH_BINARY)[1]\n",
    "    \n",
    "    # Apply bilateral filter for color smoothing while preserving edges\n",
    "    color = cv2.bilateralFilter(img, bilateral_d, bilateral_sigmaColor, bilateral_sigmaSpace)\n",
    "    \n",
    "    # Combine edges with color image\n",
    "    cartoon = cv2.bitwise_and(color, color, mask=edges) # entered twice!!!!!!!!\n",
    "    \n",
    "    # Display results\n",
    "    fig, ax = plt.subplots(1, 3, figsize=(15, 5))\n",
    "    ax[0].imshow(img)\n",
    "    ax[0].set_title(\"Original Image\")\n",
    "    ax[1].imshow(edges, cmap=\"gray\")\n",
    "    ax[1].set_title(\"Edges\")\n",
    "    ax[2].imshow(cartoon)\n",
    "    ax[2].set_title(\"Cartoonified Image\")\n",
    "    for a in ax:\n",
    "        a.axis(\"off\")\n",
    "    plt.show()\n",
    "    \n",
    "    return cartoon"
   ]
  },
  {
   "cell_type": "code",
   "execution_count": null,
   "metadata": {},
   "outputs": [],
   "source": [
    "def detect_lanes(image_path,canny_threshold1,canny_threshold2,rho, theta, hough_threshold, minLineLength, maxLineGap):\n",
    "\n",
    "    img = cv2.imread(image_path) # Read the image\n",
    "    img = cv2.cvtColor(img, cv2.COLOR_BGR2RGB)  # Convert to RGB \n",
    "    gray = cv2.cvtColor(img, cv2.COLOR_RGB2GRAY) # Convert to grayscale\n",
    "    blurred = cv2.GaussianBlur(gray, (5, 5), 0) # Apply Gaussian blur\n",
    "    \n",
    "    # Apply Canny edge detection\n",
    "    edges = cv2.Canny(blurred, canny_threshold1, canny_threshold2) \n",
    "    \n",
    "    # Define region of interest (ROI)\n",
    "    height, width = edges.shape\n",
    "    mask = np.zeros_like(edges) \n",
    "    # dih badal calculate verticies w define roi verticies 3ndak!!!!!!!!!!!!!!!!!!!!!!\n",
    "    polygon = np.array([[(50, height), (width - 50, height), (width // 2, height // 2)]], np.int32)\n",
    "    \n",
    "    cv2.fillPoly(mask, polygon, 255)\n",
    "    masked_edges = cv2.bitwise_and(edges, mask)\n",
    "    \n",
    "    # Apply Hough Transform to detect lines\n",
    "    lines = cv2.HoughLinesP(masked_edges, rho, theta, hough_threshold, minLineLength, maxLineGap)\n",
    "    \n",
    "    # Draw lanes on the original image\n",
    "    lane_img = np.copy(img)\n",
    "    if lines is not None:\n",
    "        for line in lines:\n",
    "            x1, y1, x2, y2 = line[0]\n",
    "            cv2.line(lane_img, (x1, y1), (x2, y2), (255, 0, 0), 5) #3ndak 0,255,0,3\n",
    "    \n",
    "    # Display results\n",
    "    fig, ax = plt.subplots(1, 3, figsize=(15, 5))\n",
    "    ax[0].imshow(img)\n",
    "    ax[0].set_title(\"Original Image\")\n",
    "    ax[1].imshow(edges, cmap=\"gray\")\n",
    "    ax[1].set_title(\"Edges\")\n",
    "    ax[2].imshow(lane_img)\n",
    "    ax[2].set_title(\"Lane Detection\")\n",
    "    for a in ax:\n",
    "        a.axis(\"off\")\n",
    "    plt.show()\n",
    "    \n",
    "    return lane_img"
   ]
  },
  {
   "cell_type": "code",
   "execution_count": null,
   "metadata": {},
   "outputs": [],
   "source": [
    "# Cartoonifying Parameters:\n",
    "median_ksize = 5\n",
    "laplacian_ksize = 5\n",
    "Threshold =100\n",
    "bilateral_d =9\n",
    "bilateral_sigmaColor=75\n",
    "bilateral_sigmaSpace=75\n",
    "\n",
    "# Lane Detection Parameters:\n",
    "canny_threshold1=50\n",
    "canny_threshold2=150\n",
    "rho=1\n",
    "theta=np.pi/180\n",
    "hough_threshold=50\n",
    "minLineLength=100\n",
    "maxLineGap=50\n"
   ]
  },
  {
   "cell_type": "code",
   "execution_count": null,
   "metadata": {},
   "outputs": [],
   "source": [
    "# Run the functions\n",
    "cartoon_result = cartoonify_image(\"Part1.jpg\",median_ksize,laplacian_ksize,Threshold,bilateral_d,bilateral_sigmaColor,bilateral_sigmaSpace)\n",
    "lane_result = detect_lanes(\"Part2.jpg\",canny_threshold1,canny_threshold2,rho, theta, hough_threshold, minLineLength, maxLineGap)"
   ]
  }
 ],
 "metadata": {
  "language_info": {
   "name": "python"
  }
 },
 "nbformat": 4,
 "nbformat_minor": 2
}

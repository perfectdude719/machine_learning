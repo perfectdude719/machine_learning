{
 "cells": [
  {
   "cell_type": "code",
   "id": "initial_id",
   "metadata": {
    "collapsed": true,
    "ExecuteTime": {
     "end_time": "2025-04-25T15:27:34.363866Z",
     "start_time": "2025-04-25T15:27:34.356219Z"
    }
   },
   "source": [
    "import numpy as np\n",
    "import cv2\n",
    "import matplotlib.pyplot as plt"
   ],
   "outputs": [],
   "execution_count": 8
  },
  {
   "metadata": {},
   "cell_type": "markdown",
   "source": [
    "1. Block-matching using a sliding window of radius w and either the Sum of Absolute Differences (SAD) or Sum of Squared Differences (SSD) cost.\n",
    "\n",
    "2. Scanline dynamic programming (DP) to enforce an ordering constraint and handle occlusions at the 1D row level, with a noise-weighted matching cost and occlusion penalty.\n",
    "\n",
    "Block-matching finds, for each pixel, the shift (disparity) along the epipolar line that minimizes a local windowed cost; DP finds a globally optimal alignment path through a cost matrix for each scanline, labeling pixels as matched or occluded."
   ],
   "id": "302ff9f80c71a80d"
  },
  {
   "metadata": {
    "ExecuteTime": {
     "end_time": "2025-04-25T15:27:34.404638Z",
     "start_time": "2025-04-25T15:27:34.391514Z"
    }
   },
   "cell_type": "code",
   "source": [
    "def compute_disparity_block_matching(Il, Ir, max_disp, w, method='SAD'):\n",
    "    \"\"\"\n",
    "    Compute disparity map by block matching.\n",
    "      Il, Ir   : grayscale left/right images as 2D numpy arrays\n",
    "      max_disp : maximum disparity (pixels to search)\n",
    "      w        : window radius (window size = 2*w+1)\n",
    "      method   : 'SAD' or 'SSD'\n",
    "    Returns:\n",
    "      disp     : disparity map (same size as Il), dtype=float\n",
    "    \"\"\"\n",
    "    h, w_img = Il.shape\n",
    "    disp = np.zeros_like(Il, dtype=np.float32)\n",
    "    half = w\n",
    "\n",
    "    # pad images to handle borders\n",
    "    pad = half + max_disp\n",
    "    Il_p = np.pad(Il, ((0,0),(pad,pad)), mode='constant', constant_values=0)\n",
    "    Ir_p = np.pad(Ir, ((0,0),(pad,pad)), mode='constant', constant_values=0)\n",
    "\n",
    "    for y in range(half, h-half):\n",
    "        for x in range(half, w_img-half):\n",
    "            best_cost = np.inf\n",
    "            best_d = 0\n",
    "            # left window\n",
    "            block_l = Il_p[y: y+2*half+1, x+pad: x+pad+2*half+1]\n",
    "            # search over disparities\n",
    "            for d in range(max_disp+1):\n",
    "                x_r = x + pad - d\n",
    "                block_r = Ir_p[y: y+2*half+1, x_r: x_r+2*half+1]\n",
    "                if method == 'SAD':\n",
    "                    cost = np.sum(np.abs(block_l - block_r))\n",
    "                else:  # SSD\n",
    "                    cost = np.sum((block_l - block_r)**2)\n",
    "                if cost < best_cost:\n",
    "                    best_cost = cost\n",
    "                    best_d = d\n",
    "            disp[y, x] = best_d\n",
    "    return disp\n"
   ],
   "id": "e0c5ae9fd48160e9",
   "outputs": [],
   "execution_count": 9
  },
  {
   "metadata": {
    "ExecuteTime": {
     "end_time": "2025-04-25T15:27:34.434591Z",
     "start_time": "2025-04-25T15:27:34.423938Z"
    }
   },
   "cell_type": "code",
   "source": [
    "def stereo_dp_scanline(Il_row, Ir_row, sigma=2.0, c0=1.0):\n",
    "    \"\"\"\n",
    "    Compute disparity for one scanline by dynamic programming.\n",
    "      Il_row, Ir_row : 1D numpy arrays of grayscale intensities\n",
    "      sigma          : noise parameter\n",
    "      c0             : occlusion penalty\n",
    "    Returns:\n",
    "      dl, dr         : disparity arrays for left and right scanline\n",
    "      D              : full cost matrix\n",
    "    \"\"\"\n",
    "    N = len(Il_row)\n",
    "    # cost matrix D of size (N+1)x(N+1)\n",
    "    D = np.zeros((N+1,N+1), dtype=np.float32)\n",
    "    # initialize\n",
    "    for i in range(1, N+1):\n",
    "        D[i,0] = i * c0\n",
    "        D[0,i] = i * c0\n",
    "\n",
    "    # fill\n",
    "    for i in range(1, N+1):\n",
    "        for j in range(1, N+1):\n",
    "            dij = ((Il_row[i-1] - Ir_row[j-1])**2) / (sigma**2)\n",
    "            D[i,j] = min(D[i-1,j-1] + dij,\n",
    "                         D[i-1,j]   + c0,\n",
    "                         D[i,j-1]   + c0)\n",
    "\n",
    "    # backtrack\n",
    "    i, j = N, N\n",
    "    dl = np.zeros(N, dtype=np.int32)\n",
    "    dr = np.zeros(N, dtype=np.int32)\n",
    "    while i>0 or j>0:\n",
    "        # match\n",
    "        if i>0 and j>0 and D[i,j] == D[i-1,j-1] + ((Il_row[i-1]-Ir_row[j-1])**2)/(sigma**2):\n",
    "            dl[i-1] = abs(i-j)\n",
    "            dr[j-1] = abs(i-j)\n",
    "            i, j = i-1, j-1\n",
    "        # skip left\n",
    "        elif i>0 and D[i,j] == D[i-1,j] + c0:\n",
    "            i -= 1\n",
    "        # skip right\n",
    "        else:\n",
    "            j -= 1\n",
    "\n",
    "    return dl, dr, D"
   ],
   "id": "6a332f1d90fbc395",
   "outputs": [],
   "execution_count": 10
  },
  {
   "metadata": {
    "ExecuteTime": {
     "end_time": "2025-04-25T15:27:34.469302Z",
     "start_time": "2025-04-25T15:27:34.455955Z"
    }
   },
   "cell_type": "code",
   "source": [
    "def plot_alignment(D):\n",
    "    \"\"\"\n",
    "    Given DP cost matrix D, plot the alignment path.\n",
    "    Vertical = skip in Il, horizontal = skip in Ir, diagonal = match.\n",
    "    \"\"\"\n",
    "    i, j = D.shape[0]-1, D.shape[1]-1\n",
    "    path = [(i,j)]\n",
    "    while i>0 or j>0:\n",
    "        opts = []\n",
    "        if i>0 and j>0:\n",
    "            opts.append((D[i-1,j-1], i-1, j-1, 'diag'))\n",
    "        if i>0:\n",
    "            opts.append((D[i-1,j], i-1, j, 'vert'))\n",
    "        if j>0:\n",
    "            opts.append((D[i,j-1], i, j-1, 'horiz'))\n",
    "        cost, ni, nj, move = min(opts, key=lambda x: x[0])\n",
    "        path.append((ni,nj,move))\n",
    "        i, j = ni, nj\n",
    "\n",
    "    # separate coords and moves\n",
    "    xs, ys, moves = zip(*[(j,i,m) for (i,j,*m) in path])\n",
    "    plt.figure()\n",
    "    plt.plot(xs, ys, '-o')\n",
    "    for (x,y,move) in path:\n",
    "        if move=='vert':\n",
    "            plt.vlines(x, y, y+1)\n",
    "        elif move=='horiz':\n",
    "            plt.hlines(y, x, x+1)\n",
    "        else:\n",
    "            plt.plot([x,x+1],[y,y+1])\n",
    "    plt.gca().invert_yaxis()\n",
    "    plt.xlabel('IR index j'); plt.ylabel('IL index i')\n",
    "    plt.title('DP Alignment Path')\n",
    "    plt.show()\n"
   ],
   "id": "f010ec44d1514c65",
   "outputs": [],
   "execution_count": 11
  },
  {
   "metadata": {
    "ExecuteTime": {
     "end_time": "2025-04-25T15:39:37.126958Z",
     "start_time": "2025-04-25T15:27:34.489323Z"
    }
   },
   "cell_type": "code",
   "source": [
    "Il = cv2.imread(r\"stereo_materials\\l2.png\", cv2.IMREAD_GRAYSCALE)\n",
    "Ir = cv2.imread(r\"stereo_materials\\r2.png\", cv2.IMREAD_GRAYSCALE)\n",
    "max_disp = 64\n",
    "\n",
    "# produce six maps\n",
    "disps = {}\n",
    "for w in [0,2,4]:\n",
    "    for method in ['SAD','SSD']:\n",
    "        key = f'{method}_w{2*w+1}'\n",
    "        disps[key] = compute_disparity_block_matching(Il, Ir, max_disp, w, method)\n",
    "        cv2.imwrite(f'disp_{key}.png', (disps[key]/max_disp*255).astype(np.uint8))\n",
    "#----------------------------------------------------------------------------------#\n",
    "h, w = Il.shape\n",
    "disp_dp = np.zeros_like(Il, dtype=np.int32)\n",
    "for y in range(h):\n",
    "    dl, dr, _ = stereo_dp_scanline(Il[y,:], Ir[y,:], sigma=2.0, c0=1.0)\n",
    "    disp_dp[y,:] = dl\n",
    "cv2.imwrite('disp_dp.png', (disp_dp.astype(np.float32)/max_disp*255).astype(np.uint8))\n",
    "#----------------------------------------------------------------------------------#\n",
    "_, _, D_mid = stereo_dp_scanline(Il[h // 2, :], Ir[h // 2, :])\n",
    "plot_alignment(D_mid)\n",
    "\n",
    "\n",
    "\n"
   ],
   "id": "533944d09cc703a8",
   "outputs": [
    {
     "name": "stderr",
     "output_type": "stream",
     "text": [
      "C:\\Users\\Lenovo\\AppData\\Local\\Temp\\ipykernel_5900\\821973506.py:22: RuntimeWarning: overflow encountered in scalar subtract\n",
      "  dij = ((Il_row[i-1] - Ir_row[j-1])**2) / (sigma**2)\n",
      "C:\\Users\\Lenovo\\AppData\\Local\\Temp\\ipykernel_5900\\821973506.py:33: RuntimeWarning: overflow encountered in scalar subtract\n",
      "  if i>0 and j>0 and D[i,j] == D[i-1,j-1] + ((Il_row[i-1]-Ir_row[j-1])**2)/(sigma**2):\n"
     ]
    },
    {
     "ename": "ValueError",
     "evalue": "not enough values to unpack (expected 3, got 2)",
     "output_type": "error",
     "traceback": [
      "\u001B[31m---------------------------------------------------------------------------\u001B[39m",
      "\u001B[31mValueError\u001B[39m                                Traceback (most recent call last)",
      "\u001B[36mCell\u001B[39m\u001B[36m \u001B[39m\u001B[32mIn[12]\u001B[39m\u001B[32m, line 21\u001B[39m\n\u001B[32m     19\u001B[39m \u001B[38;5;66;03m#----------------------------------------------------------------------------------#\u001B[39;00m\n\u001B[32m     20\u001B[39m _, _, D_mid = stereo_dp_scanline(Il[h // \u001B[32m2\u001B[39m, :], Ir[h // \u001B[32m2\u001B[39m, :])\n\u001B[32m---> \u001B[39m\u001B[32m21\u001B[39m \u001B[43mplot_alignment\u001B[49m\u001B[43m(\u001B[49m\u001B[43mD_mid\u001B[49m\u001B[43m)\u001B[49m\n",
      "\u001B[36mCell\u001B[39m\u001B[36m \u001B[39m\u001B[32mIn[11]\u001B[39m\u001B[32m, line 24\u001B[39m, in \u001B[36mplot_alignment\u001B[39m\u001B[34m(D)\u001B[39m\n\u001B[32m     22\u001B[39m plt.figure()\n\u001B[32m     23\u001B[39m plt.plot(xs, ys, \u001B[33m'\u001B[39m\u001B[33m-o\u001B[39m\u001B[33m'\u001B[39m)\n\u001B[32m---> \u001B[39m\u001B[32m24\u001B[39m \u001B[38;5;28;01mfor\u001B[39;00m (x,y,move) \u001B[38;5;129;01min\u001B[39;00m path:\n\u001B[32m     25\u001B[39m     \u001B[38;5;28;01mif\u001B[39;00m move==\u001B[33m'\u001B[39m\u001B[33mvert\u001B[39m\u001B[33m'\u001B[39m:\n\u001B[32m     26\u001B[39m         plt.vlines(x, y, y+\u001B[32m1\u001B[39m)\n",
      "\u001B[31mValueError\u001B[39m: not enough values to unpack (expected 3, got 2)"
     ]
    },
    {
     "data": {
      "text/plain": [
       "<Figure size 640x480 with 1 Axes>"
      ],
      "image/png": "[encoded data removed]"
     },
     "metadata": {},
     "output_type": "display_data"
    }
   ],
   "execution_count": 12
  }
 ],
 "metadata": {
  "kernelspec": {
   "display_name": "Python 3",
   "language": "python",
   "name": "python3"
  },
  "language_info": {
   "codemirror_mode": {
    "name": "ipython",
    "version": 2
   },
   "file_extension": ".py",
   "mimetype": "text/x-python",
   "name": "python",
   "nbconvert_exporter": "python",
   "pygments_lexer": "ipython2",
   "version": "2.7.6"
  }
 },
 "nbformat": 4,
 "nbformat_minor": 5
}
